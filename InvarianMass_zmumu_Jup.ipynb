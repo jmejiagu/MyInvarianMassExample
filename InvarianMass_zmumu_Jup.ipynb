{
 "cells": [
  {
   "cell_type": "code",
   "execution_count": 1,
   "id": "215c9846",
   "metadata": {},
   "outputs": [],
   "source": [
    "import pandas as pd\n",
    "import numpy as np\n",
    "import matplotlib.pyplot as plt\n"
   ]
  },
  {
   "cell_type": "code",
   "execution_count": 2,
   "id": "c3179c71",
   "metadata": {},
   "outputs": [
    {
     "data": {
      "application/vnd.jupyter.widget-view+json": {
       "model_id": "6cf07836878646bc9d88f4ddecfed285",
       "version_major": 2,
       "version_minor": 0
      },
      "text/plain": [
       "HBox(children=(Image(value=b'\\x89PNG\\r\\n\\x1a\\n\\x00\\x00\\x00\\rIHDR\\x00\\x00\\x08 \\x00\\x00\\x06\\xae\\x08\\x02\\x00\\x00\\…"
      ]
     },
     "metadata": {},
     "output_type": "display_data"
    }
   ],
   "source": [
    "#<img src=\"cms_coordinates_1.png\">\n",
    "#<img src=\"cms_coordinates_2.png\">\n",
    "import IPython.display as display\n",
    "import ipywidgets as widgets\n",
    "\n",
    "img1=open('cms_coordinates_1.png','rb').read()\n",
    "wi1 = widgets.Image(value=img1, format='jpg', width=400, height=400)\n",
    "img2=open('cms_coordinates_2.png','rb').read()\n",
    "wi2 = widgets.Image(value=img2, format='jpg', width=400, height=400)\n",
    "a=[wi1,wi2]\n",
    "wid=widgets.HBox(a)\n",
    "display.display(wid)"
   ]
  },
  {
   "cell_type": "markdown",
   "id": "400ee181",
   "metadata": {},
   "source": [
    "## Please, for this studies, take into account the Appropriate Coordinate system\n",
    "\n",
    "For example: as CMS is of the cylindrical type, appropriate coordinates are deﬁned to track particles. The Cartesian coordinates X, Y, and Z are ﬁrst set: X points to the center of the accelerator, Y to the surface, and Z in the direction of the beam, as illustrated in Figures. The XY plane is also referred to as the transverse plane. The problem with this set of coordinates is that the physics is not symmetrical under these, which would be a beneﬁcial feature. Therefore, the rapidity y, a Lorentz invariant over which the particles in the ﬁnal state. are equally distributed, is used. The rapidity is deﬁned as.\n",
    "\n",
    "$$ y = \\frac{1}{2} ln(\\frac{E+p_{z}}{E-p_{z}}) $$\n",
    "\n",
    "which for highly relativistic particles can be approximated by the pseudo-rapidity\n",
    "\n",
    "$$ \\eta = -ln(tan(\\frac{\\theta}{2})) $$\n",
    "\n",
    "where $\\theta$ is the polar angle (angle between the particle and the Z axis). The other coordinates are the azimuth $\\phi$ (angle in the XY plane), and the distance to the beam in the transverse plane R for tracks the barrel, and the Z coordinate for tracks the endcaps."
   ]
  },
  {
   "cell_type": "code",
   "execution_count": 3,
   "id": "1a778fb2",
   "metadata": {},
   "outputs": [],
   "source": [
    "\"\"\"\n",
    "We will not use these functions. \n",
    "These are just to show you, in a simple way, \"the transformation laws\" (see more below).\n",
    "\"\"\"\n",
    "def calculte_energy(masa, pt, eta):\n",
    "    return np.sqrt(masa**2 + pt**2 * np.cosh(eta)**2)\n",
    "\n",
    "def calculate_momentum(pt, phi, eta):\n",
    "    px = pt * np.cos(phi)\n",
    "    py = pt * np.sin(phi)\n",
    "    pz = pt * np.sinh(eta)\n",
    "    return np.array([px, py, pz])"
   ]
  },
  {
   "cell_type": "markdown",
   "id": "c22201ad",
   "metadata": {},
   "source": [
    "### Create a new DataFrame structure and save it in the file 'dataset'.\n",
    "Data can be obtained from a file with the read_csv() -function. Inside the parentheses, we write the path of the file."
   ]
  },
  {
   "cell_type": "code",
   "execution_count": 4,
   "id": "a859fa00",
   "metadata": {},
   "outputs": [
    {
     "data": {
      "text/html": [
       "<div>\n",
       "<style scoped>\n",
       "    .dataframe tbody tr th:only-of-type {\n",
       "        vertical-align: middle;\n",
       "    }\n",
       "\n",
       "    .dataframe tbody tr th {\n",
       "        vertical-align: top;\n",
       "    }\n",
       "\n",
       "    .dataframe thead th {\n",
       "        text-align: right;\n",
       "    }\n",
       "</style>\n",
       "<table border=\"1\" class=\"dataframe\">\n",
       "  <thead>\n",
       "    <tr style=\"text-align: right;\">\n",
       "      <th></th>\n",
       "      <th>Type</th>\n",
       "      <th>Run</th>\n",
       "      <th>Event</th>\n",
       "      <th>E1</th>\n",
       "      <th>px1</th>\n",
       "      <th>py1</th>\n",
       "      <th>pz1</th>\n",
       "      <th>pt1</th>\n",
       "      <th>eta1</th>\n",
       "      <th>phi1</th>\n",
       "      <th>Q1</th>\n",
       "      <th>E2</th>\n",
       "      <th>px2</th>\n",
       "      <th>py2</th>\n",
       "      <th>pz2</th>\n",
       "      <th>pt2</th>\n",
       "      <th>eta2</th>\n",
       "      <th>phi2</th>\n",
       "      <th>Q2</th>\n",
       "      <th>M</th>\n",
       "    </tr>\n",
       "  </thead>\n",
       "  <tbody>\n",
       "    <tr>\n",
       "      <th>0</th>\n",
       "      <td>GT</td>\n",
       "      <td>148031</td>\n",
       "      <td>10507008</td>\n",
       "      <td>82.201866</td>\n",
       "      <td>-41.195288</td>\n",
       "      <td>17.433244</td>\n",
       "      <td>-68.964962</td>\n",
       "      <td>44.7322</td>\n",
       "      <td>-1.217690</td>\n",
       "      <td>2.741260</td>\n",
       "      <td>1</td>\n",
       "      <td>60.621875</td>\n",
       "      <td>34.144437</td>\n",
       "      <td>-16.119525</td>\n",
       "      <td>-47.426984</td>\n",
       "      <td>38.8311</td>\n",
       "      <td>-1.05139</td>\n",
       "      <td>-0.440873</td>\n",
       "      <td>-1</td>\n",
       "      <td>82.462692</td>\n",
       "    </tr>\n",
       "    <tr>\n",
       "      <th>1</th>\n",
       "      <td>TT</td>\n",
       "      <td>148031</td>\n",
       "      <td>10507008</td>\n",
       "      <td>62.344929</td>\n",
       "      <td>35.118050</td>\n",
       "      <td>-16.570362</td>\n",
       "      <td>-48.775247</td>\n",
       "      <td>38.8311</td>\n",
       "      <td>-1.051390</td>\n",
       "      <td>-0.440873</td>\n",
       "      <td>-1</td>\n",
       "      <td>82.201866</td>\n",
       "      <td>-41.195288</td>\n",
       "      <td>17.433244</td>\n",
       "      <td>-68.964962</td>\n",
       "      <td>44.7322</td>\n",
       "      <td>-1.21769</td>\n",
       "      <td>2.741260</td>\n",
       "      <td>1</td>\n",
       "      <td>83.626204</td>\n",
       "    </tr>\n",
       "    <tr>\n",
       "      <th>2</th>\n",
       "      <td>GT</td>\n",
       "      <td>148031</td>\n",
       "      <td>10507008</td>\n",
       "      <td>62.344929</td>\n",
       "      <td>35.118050</td>\n",
       "      <td>-16.570362</td>\n",
       "      <td>-48.775247</td>\n",
       "      <td>38.8311</td>\n",
       "      <td>-1.051390</td>\n",
       "      <td>-0.440873</td>\n",
       "      <td>-1</td>\n",
       "      <td>81.582778</td>\n",
       "      <td>-40.883323</td>\n",
       "      <td>17.299297</td>\n",
       "      <td>-68.447255</td>\n",
       "      <td>44.7322</td>\n",
       "      <td>-1.21769</td>\n",
       "      <td>2.741260</td>\n",
       "      <td>1</td>\n",
       "      <td>83.308465</td>\n",
       "    </tr>\n",
       "    <tr>\n",
       "      <th>3</th>\n",
       "      <td>GG</td>\n",
       "      <td>148031</td>\n",
       "      <td>10507008</td>\n",
       "      <td>60.621875</td>\n",
       "      <td>34.144437</td>\n",
       "      <td>-16.119525</td>\n",
       "      <td>-47.426984</td>\n",
       "      <td>38.8311</td>\n",
       "      <td>-1.051390</td>\n",
       "      <td>-0.440873</td>\n",
       "      <td>-1</td>\n",
       "      <td>81.582778</td>\n",
       "      <td>-40.883323</td>\n",
       "      <td>17.299297</td>\n",
       "      <td>-68.447255</td>\n",
       "      <td>44.7322</td>\n",
       "      <td>-1.21769</td>\n",
       "      <td>2.741260</td>\n",
       "      <td>1</td>\n",
       "      <td>82.149373</td>\n",
       "    </tr>\n",
       "    <tr>\n",
       "      <th>4</th>\n",
       "      <td>GT</td>\n",
       "      <td>148031</td>\n",
       "      <td>105238546</td>\n",
       "      <td>41.826389</td>\n",
       "      <td>22.783582</td>\n",
       "      <td>15.036444</td>\n",
       "      <td>-31.689894</td>\n",
       "      <td>27.2981</td>\n",
       "      <td>-0.990688</td>\n",
       "      <td>0.583351</td>\n",
       "      <td>1</td>\n",
       "      <td>49.760726</td>\n",
       "      <td>-20.177373</td>\n",
       "      <td>-9.354149</td>\n",
       "      <td>44.513955</td>\n",
       "      <td>21.8913</td>\n",
       "      <td>1.44434</td>\n",
       "      <td>-2.707650</td>\n",
       "      <td>-1</td>\n",
       "      <td>90.469123</td>\n",
       "    </tr>\n",
       "  </tbody>\n",
       "</table>\n",
       "</div>"
      ],
      "text/plain": [
       "  Type     Run      Event         E1        px1        py1        pz1  \\\n",
       "0   GT  148031   10507008  82.201866 -41.195288  17.433244 -68.964962   \n",
       "1   TT  148031   10507008  62.344929  35.118050 -16.570362 -48.775247   \n",
       "2   GT  148031   10507008  62.344929  35.118050 -16.570362 -48.775247   \n",
       "3   GG  148031   10507008  60.621875  34.144437 -16.119525 -47.426984   \n",
       "4   GT  148031  105238546  41.826389  22.783582  15.036444 -31.689894   \n",
       "\n",
       "       pt1      eta1      phi1  Q1         E2        px2        py2  \\\n",
       "0  44.7322 -1.217690  2.741260   1  60.621875  34.144437 -16.119525   \n",
       "1  38.8311 -1.051390 -0.440873  -1  82.201866 -41.195288  17.433244   \n",
       "2  38.8311 -1.051390 -0.440873  -1  81.582778 -40.883323  17.299297   \n",
       "3  38.8311 -1.051390 -0.440873  -1  81.582778 -40.883323  17.299297   \n",
       "4  27.2981 -0.990688  0.583351   1  49.760726 -20.177373  -9.354149   \n",
       "\n",
       "         pz2      pt2     eta2      phi2  Q2          M  \n",
       "0 -47.426984  38.8311 -1.05139 -0.440873  -1  82.462692  \n",
       "1 -68.964962  44.7322 -1.21769  2.741260   1  83.626204  \n",
       "2 -68.447255  44.7322 -1.21769  2.741260   1  83.308465  \n",
       "3 -68.447255  44.7322 -1.21769  2.741260   1  82.149373  \n",
       "4  44.513955  21.8913  1.44434 -2.707650  -1  90.469123  "
      ]
     },
     "execution_count": 4,
     "metadata": {},
     "output_type": "execute_result"
    }
   ],
   "source": [
    "# take from: \n",
    "## https://opendata-education.github.io/en_Physics/Exercises-with-open-data/Warming-up/Calculate-invariant-mass.html\n",
    "Dpd = pd.read_csv('Zmumu.csv')\n",
    "#print(Dpd)\n",
    "Dpd.head()"
   ]
  },
  {
   "cell_type": "markdown",
   "id": "ee7cac90",
   "metadata": {},
   "source": [
    "### Let us use the following expression for the invariant mass $M$ in the calculation:\n",
    "\n",
    "$$ M = \\sqrt{(E_1 + E_2)^2 - \\|\\textbf{p}_1 + \\textbf{p}_2 \\| ^2} = \\sqrt{(E_1+E_2)^2-((p_{1_x}+p_{2_x})^2+(p_{1_y}+p_{2_y})^2+(p_{1_z}+p_{2_z})^2)},$$\n",
    "\n",
    "where $\\textbf{p}$ contains all the components of the momentum. The equation above gives us the precise value of the invariant mass, so let's use it when possible."
   ]
  },
  {
   "cell_type": "code",
   "execution_count": 5,
   "id": "29931dbd",
   "metadata": {},
   "outputs": [],
   "source": [
    "#Invariante mass using px,py,pz and E\n",
    "Dpd['InvMp'] = np.sqrt( (Dpd['E1']+Dpd['E2'])*(Dpd['E1']+Dpd['E2']) - ( (Dpd['px1']+Dpd['px2'])*(Dpd['px1']+Dpd['px2']) \\\n",
    "                                                                     + (Dpd['py1']+Dpd['py2'])*(Dpd['py1']+Dpd['py2']) \\\n",
    "                                                                     + (Dpd['pz1']+Dpd['pz2'])*(Dpd['pz1']+Dpd['pz2'])  ) )"
   ]
  },
  {
   "cell_type": "markdown",
   "id": "dcae6019",
   "metadata": {},
   "source": [
    "### However, some datasets don't have the components of the momentum in them. \n",
    "In this case, we can use an approximation that works in situations where E >> m (as is often the case in particle detectors):\n",
    "\n",
    "$$M = \\sqrt{2p_{T1}p_{T2}(\\cosh(\\eta_1-\\eta_2)-\\cos(\\phi_1-\\phi_2))}.$$\n",
    "\n",
    "In the expression $p_T$ is the component of the momentum which is perpendicular to the beam axis, $\\eta$ is the pseudorapidity (angle) and $\\phi$ the azimuthal angle."
   ]
  },
  {
   "cell_type": "code",
   "execution_count": 6,
   "id": "f194aeab",
   "metadata": {},
   "outputs": [],
   "source": [
    "Dpd['InvMA'] = np.sqrt( 2*Dpd['pt1']*Dpd['pt2']*( np.cosh(Dpd['eta1']-Dpd['eta2']) - \\\n",
    "                                                 np.cos(Dpd['phi1']-Dpd['phi2']) ) )"
   ]
  },
  {
   "cell_type": "code",
   "execution_count": 7,
   "id": "5d6f5b90",
   "metadata": {},
   "outputs": [
    {
     "data": {
      "text/plain": [
       "<function matplotlib.pyplot.show(close=None, block=None)>"
      ]
     },
     "execution_count": 7,
     "metadata": {},
     "output_type": "execute_result"
    },
    {
     "data": {
      "image/png": "[encoded data removed]",
      "text/plain": [
       "<Figure size 1000x700 with 1 Axes>"
      ]
     },
     "metadata": {},
     "output_type": "display_data"
    }
   ],
   "source": [
    "plt.figure(figsize=(10,7))\n",
    "plt.title('')\n",
    "\n",
    "plt.hist(Dpd.InvMp, range=[0,180], bins=90, color='blue', label=\"Invariant mass px, py, pz\")#, grid=False, \n",
    "plt.hist(Dpd.InvMA, range=[0,180], bins=90, color='red', label=\"Invariant mass pt, phi, eta\")#edgecolor='blue',                                                  \n",
    "#Dpd.hist(column='M', bins=100, alpha=.6, edgecolor='blue', grid=False)\n",
    "\n",
    "plt.legend()\n",
    "#plt.xscale(\"log\")\n",
    "plt.xlabel('M($\\mu\\mu$) [GeV]')\n",
    "plt.ylabel('Events / 2 GeV')\n",
    "plt.show\n",
    "#plt.savefig(f'Histo_massmumu_relativisticapproach.png') ##E >> m"
   ]
  },
  {
   "cell_type": "markdown",
   "id": "5a0ac540",
   "metadata": {},
   "source": [
    "### Now, we can make the transformations by we self. \n",
    "The energy E and the moment p are related to the mass (m), the transverse moment (pT), the pseudo-rapidity (η), and the azimuthal angle (ϕ) by the following equations:\n",
    "\n",
    "$E = \\sqrt{m^2 + p_T^2 \\cosh^2(\\eta)} $\n",
    "\n",
    "$ p_{x} = P_{T} cos(\\phi)$\n",
    "\n",
    "$ p_{y} = P_{T} sin(\\phi)$\n",
    "\n",
    "$ p_{z} = P_{T} sinh(\\eta)$"
   ]
  },
  {
   "cell_type": "code",
   "execution_count": 8,
   "id": "fc5e328f",
   "metadata": {},
   "outputs": [],
   "source": [
    "Dpd['Mypx1'] = Dpd['pt1']*np.cos(Dpd['phi1'])\n",
    "Dpd['Mypy1'] = Dpd['pt1']*np.sin(Dpd['phi1'])\n",
    "Dpd['Mypz1'] = Dpd['pt1']*np.sinh(Dpd['eta1'])\n",
    "##in this case, the mass of the muon (~~0.10567)\n",
    "Dpd['Mmu'] = 0.10567\n",
    "Dpd['MyE1']  = np.sqrt(Dpd['Mmu']**2 + (Dpd['pt1']**2 * np.cosh(Dpd['eta1'])**2) )\n",
    "\n",
    "Dpd['Mypx2'] = Dpd['pt2']*np.cos(Dpd['phi2'])\n",
    "Dpd['Mypy2'] = Dpd['pt2']*np.sin(Dpd['phi2'])\n",
    "Dpd['Mypz2'] = Dpd['pt2']*np.sinh(Dpd['eta2'])\n",
    "Dpd['MyE2']  = np.sqrt( Dpd['Mmu']**2 + (Dpd['pt2']**2 * np.cosh(Dpd['eta2'])**2) )\n",
    "\n",
    "Dpd['InvM_MyM'] = np.sqrt( (Dpd['MyE1']+Dpd['MyE2'])*(Dpd['MyE1']+Dpd['MyE2']) - ( (Dpd['Mypx1']+Dpd['Mypx2'])*(Dpd['Mypx1']+Dpd['Mypx2']) \\\n",
    "                                                                     + (Dpd['Mypy1']+Dpd['Mypy2'])*(Dpd['Mypy1']+Dpd['Mypy2']) \\\n",
    "                                                                     + (Dpd['Mypz1']+Dpd['Mypz2'])*(Dpd['Mypz1']+Dpd['Mypz2'])  ) )"
   ]
  },
  {
   "cell_type": "code",
   "execution_count": 11,
   "id": "374ec8d6",
   "metadata": {},
   "outputs": [
    {
     "data": {
      "text/plain": [
       "<function matplotlib.pyplot.show(close=None, block=None)>"
      ]
     },
     "execution_count": 11,
     "metadata": {},
     "output_type": "execute_result"
    },
    {
     "data": {
      "image/png": "[encoded data removed]",
      "text/plain": [
       "<Figure size 1000x700 with 1 Axes>"
      ]
     },
     "metadata": {},
     "output_type": "display_data"
    }
   ],
   "source": [
    "plt.figure(figsize=(10,7))\n",
    "plt.title('')\n",
    "\n",
    "plt.hist(Dpd.M, range=[0,180], bins=90, color='blue', label=\"Invariant mass in dataset\")#, grid=False, \n",
    "plt.hist(Dpd.InvM_MyM, range=[0,180], bins=90, color='red', label=\"Invariant mass with transformations\")#edgecolor='blue',                                                  \n",
    "#Dpd.hist(column='M', bins=100, alpha=.6, edgecolor='blue', grid=False)\n",
    "\n",
    "plt.legend()\n",
    "#plt.xscale(\"log\")\n",
    "plt.xlabel('M($\\mu\\mu$) [GeV]')\n",
    "plt.ylabel('Events / 2 GeV')\n",
    "plt.show\n",
    "#plt.savefig(f'Histo_massmumu.png') "
   ]
  },
  {
   "cell_type": "code",
   "execution_count": null,
   "id": "6d83ffe5",
   "metadata": {},
   "outputs": [],
   "source": []
  },
  {
   "cell_type": "code",
   "execution_count": null,
   "id": "7a390b34",
   "metadata": {},
   "outputs": [],
   "source": []
  }
 ],
 "metadata": {
  "kernelspec": {
   "display_name": "Python 3 (ipykernel)",
   "language": "python",
   "name": "python3"
  },
  "language_info": {
   "codemirror_mode": {
    "name": "ipython",
    "version": 3
   },
   "file_extension": ".py",
   "mimetype": "text/x-python",
   "name": "python",
   "nbconvert_exporter": "python",
   "pygments_lexer": "ipython3",
   "version": "3.9.13"
  }
 },
 "nbformat": 4,
 "nbformat_minor": 5
}
